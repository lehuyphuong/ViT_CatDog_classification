{
 "cells": [
  {
   "cell_type": "markdown",
   "id": "4f26f97d",
   "metadata": {
    "papermill": {
     "duration": 0.010926,
     "end_time": "2025-09-07T09:55:03.876441",
     "exception": false,
     "start_time": "2025-09-07T09:55:03.865515",
     "status": "completed"
    },
    "tags": []
   },
   "source": [
    "# import library"
   ]
  },
  {
   "cell_type": "code",
   "execution_count": 1,
   "id": "b8924360-dced-4694-af49-fd7e5be38a1d",
   "metadata": {
    "execution": {
     "iopub.execute_input": "2025-09-07T09:55:03.891184Z",
     "iopub.status.busy": "2025-09-07T09:55:03.890783Z",
     "iopub.status.idle": "2025-09-07T09:55:10.527143Z",
     "shell.execute_reply": "2025-09-07T09:55:10.525205Z"
    },
    "papermill": {
     "duration": 6.647204,
     "end_time": "2025-09-07T09:55:10.530559",
     "exception": false,
     "start_time": "2025-09-07T09:55:03.883355",
     "status": "completed"
    },
    "tags": []
   },
   "outputs": [
    {
     "name": "stdout",
     "output_type": "stream",
     "text": [
      "/venv/main/bin/python3.10\n"
     ]
    },
    {
     "name": "stdout",
     "output_type": "stream",
     "text": [
      "\u001b[33mWARNING: Running pip as the 'root' user can result in broken permissions and conflicting behaviour with the system package manager, possibly rendering your system unusable. It is recommended to use a virtual environment instead: https://pip.pypa.io/warnings/venv. Use the --root-user-action option if you know what you are doing and want to suppress this warning.\u001b[0m\u001b[33m\r\n",
      "\u001b[0m"
     ]
    },
    {
     "name": "stdout",
     "output_type": "stream",
     "text": [
      "\u001b[33mWARNING: Running pip as the 'root' user can result in broken permissions and conflicting behaviour with the system package manager, possibly rendering your system unusable. It is recommended to use a virtual environment instead: https://pip.pypa.io/warnings/venv. Use the --root-user-action option if you know what you are doing and want to suppress this warning.\u001b[0m\u001b[33m\r\n",
      "\u001b[0m"
     ]
    },
    {
     "name": "stdout",
     "output_type": "stream",
     "text": [
      "\u001b[33mWARNING: Running pip as the 'root' user can result in broken permissions and conflicting behaviour with the system package manager, possibly rendering your system unusable. It is recommended to use a virtual environment instead: https://pip.pypa.io/warnings/venv. Use the --root-user-action option if you know what you are doing and want to suppress this warning.\u001b[0m\u001b[33m\r\n",
      "\u001b[0m"
     ]
    },
    {
     "name": "stdout",
     "output_type": "stream",
     "text": [
      "\u001b[33mWARNING: Running pip as the 'root' user can result in broken permissions and conflicting behaviour with the system package manager, possibly rendering your system unusable. It is recommended to use a virtual environment instead: https://pip.pypa.io/warnings/venv. Use the --root-user-action option if you know what you are doing and want to suppress this warning.\u001b[0m\u001b[33m\r\n",
      "\u001b[0m"
     ]
    }
   ],
   "source": [
    "import sys\n",
    "print(sys.executable)\n",
    "\n",
    "!{sys.executable} -m pip install matplotlib --upgrade --quiet\n",
    "!{sys.executable} -m pip install scikit-learn --upgrade --quiet\n",
    "!{sys.executable} -m pip install torch --upgrade --quiet\n",
    "!{sys.executable} -m pip install torchvision --upgrade --quiet"
   ]
  },
  {
   "cell_type": "code",
   "execution_count": 2,
   "id": "5fb4bb7b",
   "metadata": {
    "execution": {
     "iopub.execute_input": "2025-09-07T09:55:10.560689Z",
     "iopub.status.busy": "2025-09-07T09:55:10.560048Z",
     "iopub.status.idle": "2025-09-07T09:55:14.307474Z",
     "shell.execute_reply": "2025-09-07T09:55:14.306321Z"
    },
    "papermill": {
     "duration": 3.765384,
     "end_time": "2025-09-07T09:55:14.310192",
     "exception": false,
     "start_time": "2025-09-07T09:55:10.544808",
     "status": "completed"
    },
    "tags": []
   },
   "outputs": [],
   "source": [
    "import torch\n",
    "import torch.nn as nn\n",
    "from torchvision import transforms\n",
    "from torch.utils.data import DataLoader, Dataset\n",
    "import matplotlib.pyplot as plt\n",
    "import csv\n",
    "import os\n",
    "from sklearn.model_selection import train_test_split\n",
    "from PIL import Image"
   ]
  },
  {
   "cell_type": "markdown",
   "id": "48927300",
   "metadata": {
    "papermill": {
     "duration": 0.013273,
     "end_time": "2025-09-07T09:55:14.337709",
     "exception": false,
     "start_time": "2025-09-07T09:55:14.324436",
     "status": "completed"
    },
    "tags": []
   },
   "source": [
    "# download and extract dataset"
   ]
  },
  {
   "cell_type": "code",
   "execution_count": 3,
   "id": "189c1d54",
   "metadata": {
    "execution": {
     "iopub.execute_input": "2025-09-07T09:55:14.364167Z",
     "iopub.status.busy": "2025-09-07T09:55:14.363822Z",
     "iopub.status.idle": "2025-09-07T09:55:14.369475Z",
     "shell.execute_reply": "2025-09-07T09:55:14.368332Z"
    },
    "papermill": {
     "duration": 0.020464,
     "end_time": "2025-09-07T09:55:14.371495",
     "exception": false,
     "start_time": "2025-09-07T09:55:14.351031",
     "status": "completed"
    },
    "tags": []
   },
   "outputs": [],
   "source": [
    "transform = transforms.Compose([transforms.Resize((32, 32)),\n",
    "                                transforms.ToTensor(),\n",
    "                                transforms.Normalize((0.4914, 0.4822, 0.4465), (0.2023, 0.1994, 0.2010)),])"
   ]
  },
  {
   "cell_type": "code",
   "execution_count": 4,
   "id": "0eb72a4a",
   "metadata": {
    "execution": {
     "iopub.execute_input": "2025-09-07T09:55:14.393427Z",
     "iopub.status.busy": "2025-09-07T09:55:14.393079Z",
     "iopub.status.idle": "2025-09-07T09:55:17.643863Z",
     "shell.execute_reply": "2025-09-07T09:55:17.642758Z"
    },
    "papermill": {
     "duration": 3.264814,
     "end_time": "2025-09-07T09:55:17.646534",
     "exception": false,
     "start_time": "2025-09-07T09:55:14.381720",
     "status": "completed"
    },
    "tags": []
   },
   "outputs": [
    {
     "name": "stdout",
     "output_type": "stream",
     "text": [
      "Skipping corrupt: data/PetImages/Cat/666.jpg\n"
     ]
    },
    {
     "name": "stdout",
     "output_type": "stream",
     "text": [
      "Skipping corrupt: data/PetImages/Dog/11702.jpg\n"
     ]
    },
    {
     "name": "stderr",
     "output_type": "stream",
     "text": [
      "/venv/main/lib/python3.10/site-packages/PIL/TiffImagePlugin.py:950: UserWarning: Truncated File Read\n",
      "  warnings.warn(str(msg))\n"
     ]
    }
   ],
   "source": [
    "rootdir = \"data/PetImages\"\n",
    "output_csv = \"labels.csv\"\n",
    "\n",
    "# class map\n",
    "class_map = {\n",
    "    'Cat': 0,\n",
    "    'Dog': 1\n",
    "}\n",
    "\n",
    "def is_valid_image(path):\n",
    "    try:\n",
    "        with Image.open(path) as im:\n",
    "            im.verify()  # quick integrity check\n",
    "        return True\n",
    "    except Exception:\n",
    "        return False\n",
    "\n",
    "with open(output_csv, mode='w', newline='') as f:\n",
    "    w = csv.writer(f)\n",
    "    for cname in ['Cat', 'Dog']:\n",
    "        cdir = os.path.join(rootdir, cname)\n",
    "        for fname in os.listdir(cdir):\n",
    "            if not fname.lower().endswith('.jpg'):\n",
    "                continue\n",
    "            full = os.path.join(cdir, fname)\n",
    "            if is_valid_image(full):\n",
    "                w.writerow([os.path.join(cname, fname), class_map[cname]])\n",
    "            else:\n",
    "                print(f\"Skipping corrupt: {full}\")\n"
   ]
  },
  {
   "cell_type": "code",
   "execution_count": 5,
   "id": "1206579e",
   "metadata": {
    "execution": {
     "iopub.execute_input": "2025-09-07T09:55:17.676584Z",
     "iopub.status.busy": "2025-09-07T09:55:17.676340Z",
     "iopub.status.idle": "2025-09-07T09:55:17.755230Z",
     "shell.execute_reply": "2025-09-07T09:55:17.754375Z"
    },
    "papermill": {
     "duration": 0.096461,
     "end_time": "2025-09-07T09:55:17.757796",
     "exception": false,
     "start_time": "2025-09-07T09:55:17.661335",
     "status": "completed"
    },
    "tags": []
   },
   "outputs": [
    {
     "name": "stdout",
     "output_type": "stream",
     "text": [
      "24998\n",
      "24998\n"
     ]
    }
   ],
   "source": [
    "image_label_path = 'labels.csv'\n",
    "\n",
    "with open(image_label_path, 'r') as f:\n",
    "    f = f.readlines()\n",
    "    image_paths = []\n",
    "    labels = []\n",
    "    for line in f:\n",
    "        comma_idx = line.find(',')\n",
    "\n",
    "        if comma_idx != -1:\n",
    "            first_path = line[:comma_idx] # image path\n",
    "            second_path = line[comma_idx + 1:] # label\n",
    "            image_paths.append(os.path.join(rootdir, first_path))\n",
    "            labels.append(int(second_path))\n",
    "\n",
    "print(len(image_paths))\n",
    "print(len(labels))"
   ]
  },
  {
   "cell_type": "markdown",
   "id": "58ddfa31",
   "metadata": {
    "papermill": {
     "duration": 0.014373,
     "end_time": "2025-09-07T09:55:17.787305",
     "exception": false,
     "start_time": "2025-09-07T09:55:17.772932",
     "status": "completed"
    },
    "tags": []
   },
   "source": [
    "# split training dataset"
   ]
  },
  {
   "cell_type": "code",
   "execution_count": 6,
   "id": "f6c5debb",
   "metadata": {
    "execution": {
     "iopub.execute_input": "2025-09-07T09:55:17.812784Z",
     "iopub.status.busy": "2025-09-07T09:55:17.812520Z",
     "iopub.status.idle": "2025-09-07T09:55:17.834657Z",
     "shell.execute_reply": "2025-09-07T09:55:17.833476Z"
    },
    "papermill": {
     "duration": 0.036264,
     "end_time": "2025-09-07T09:55:17.836995",
     "exception": false,
     "start_time": "2025-09-07T09:55:17.800731",
     "status": "completed"
    },
    "tags": []
   },
   "outputs": [],
   "source": [
    "val_size = 0.2\n",
    "test_size = 0.125\n",
    "is_shuffle = True\n",
    "\n",
    "X_train, X_val, y_train, y_val = train_test_split(\n",
    "    image_paths, labels,\n",
    "    test_size=test_size,\n",
    "    shuffle=is_shuffle\n",
    ")\n",
    "\n",
    "X_train, X_test, y_train, y_test = train_test_split(\n",
    "    X_train, y_train,\n",
    "    test_size=test_size,\n",
    "    shuffle=is_shuffle\n",
    ")"
   ]
  },
  {
   "cell_type": "markdown",
   "id": "d02f6c94",
   "metadata": {
    "papermill": {
     "duration": 0.011494,
     "end_time": "2025-09-07T09:55:17.860344",
     "exception": false,
     "start_time": "2025-09-07T09:55:17.848850",
     "status": "completed"
    },
    "tags": []
   },
   "source": [
    "# define dataset"
   ]
  },
  {
   "cell_type": "code",
   "execution_count": 7,
   "id": "e8f1a905",
   "metadata": {
    "execution": {
     "iopub.execute_input": "2025-09-07T09:55:17.882240Z",
     "iopub.status.busy": "2025-09-07T09:55:17.881909Z",
     "iopub.status.idle": "2025-09-07T09:55:17.890545Z",
     "shell.execute_reply": "2025-09-07T09:55:17.889059Z"
    },
    "papermill": {
     "duration": 0.021312,
     "end_time": "2025-09-07T09:55:17.892608",
     "exception": false,
     "start_time": "2025-09-07T09:55:17.871296",
     "status": "completed"
    },
    "tags": []
   },
   "outputs": [],
   "source": [
    "class catdogDataset(Dataset):\n",
    "    def __init__(self, img_paths, labels, transforms=None):\n",
    "        self.img_paths = img_paths\n",
    "        self.labels = labels\n",
    "        self.transform = transforms\n",
    "\n",
    "    def __len__(self):\n",
    "        return len(self.img_paths)\n",
    "        \n",
    "    def __getitem__(self, idx):\n",
    "        img_path = self.img_paths[idx]\n",
    "        image = Image.open(img_path).convert('RGB')\n",
    "\n",
    "        # apply trasnformation\n",
    "        image = self.transform(image)\n",
    "\n",
    "        # convert label to tensor\n",
    "        label = torch.tensor(self.labels[idx])\n",
    "\n",
    "        return image, label\n",
    "\n"
   ]
  },
  {
   "cell_type": "markdown",
   "id": "ff8e8685",
   "metadata": {
    "papermill": {
     "duration": 0.008804,
     "end_time": "2025-09-07T09:55:17.910766",
     "exception": false,
     "start_time": "2025-09-07T09:55:17.901962",
     "status": "completed"
    },
    "tags": []
   },
   "source": [
    "# define dataloader"
   ]
  },
  {
   "cell_type": "code",
   "execution_count": 8,
   "id": "d22f05bc",
   "metadata": {
    "execution": {
     "iopub.execute_input": "2025-09-07T09:55:17.930200Z",
     "iopub.status.busy": "2025-09-07T09:55:17.929629Z",
     "iopub.status.idle": "2025-09-07T09:55:17.942745Z",
     "shell.execute_reply": "2025-09-07T09:55:17.941172Z"
    },
    "papermill": {
     "duration": 0.02498,
     "end_time": "2025-09-07T09:55:17.944757",
     "exception": false,
     "start_time": "2025-09-07T09:55:17.919777",
     "status": "completed"
    },
    "tags": []
   },
   "outputs": [
    {
     "name": "stdout",
     "output_type": "stream",
     "text": [
      "19138\n",
      "19138\n"
     ]
    }
   ],
   "source": [
    "train_dataset = catdogDataset(X_train, y_train, transforms=transform)\n",
    "val_dataset = catdogDataset(X_val, y_val, transforms=transform)\n",
    "test_dataset = catdogDataset(X_test, y_test, transforms=transform)\n",
    "\n",
    "# create dataloader\n",
    "train_loader = DataLoader(train_dataset, batch_size=32, shuffle=True)\n",
    "val_loader = DataLoader(val_dataset, batch_size=32, shuffle=False)\n",
    "test_loader = DataLoader(test_dataset, batch_size=32, shuffle=False)\n",
    "print(len(train_dataset.img_paths))\n",
    "print(len(train_dataset.labels))"
   ]
  },
  {
   "cell_type": "markdown",
   "id": "b18cf6f9",
   "metadata": {
    "papermill": {
     "duration": 0.007835,
     "end_time": "2025-09-07T09:55:17.960368",
     "exception": false,
     "start_time": "2025-09-07T09:55:17.952533",
     "status": "completed"
    },
    "tags": []
   },
   "source": [
    "# define model"
   ]
  },
  {
   "cell_type": "code",
   "execution_count": 9,
   "id": "61619034",
   "metadata": {
    "execution": {
     "iopub.execute_input": "2025-09-07T09:55:17.978022Z",
     "iopub.status.busy": "2025-09-07T09:55:17.977406Z",
     "iopub.status.idle": "2025-09-07T09:55:17.996016Z",
     "shell.execute_reply": "2025-09-07T09:55:17.994434Z"
    },
    "papermill": {
     "duration": 0.029784,
     "end_time": "2025-09-07T09:55:17.998026",
     "exception": false,
     "start_time": "2025-09-07T09:55:17.968242",
     "status": "completed"
    },
    "tags": []
   },
   "outputs": [],
   "source": [
    "class PatchPositionEmbedding(nn.Module):\n",
    "    def __init__(self, embed_dim=512, patch_size=16, image_size=224):\n",
    "        super().__init__()\n",
    "        self.conv1 = nn.Conv2d(in_channels=3, out_channels=embed_dim, kernel_size=patch_size, stride=patch_size, bias=False)\n",
    "\n",
    "        scale = embed_dim ** -0.5\n",
    "        self.class_embedding = nn.Parameter(scale * torch.randn(embed_dim))\n",
    "        self.positional_embedding = nn.Parameter(scale * torch.randn((image_size // patch_size) ** 2 + 1, embed_dim))\n",
    "\n",
    "    def forward(self, x):\n",
    "        x = self.conv1(x) # shape = [*, width, grid, grid]\n",
    "        x = x.reshape(x.shape[0], x.shape[1], -1)  # shape = [*, width, grid ** 2]\n",
    "        x = x.permute(0, 2, 1)  # shape = [*, grid ** 2, width]\n",
    "        # expanding the CLS embedding\n",
    "        cls_embs = self.class_embedding.to(x.dtype) + torch.zeros(x.shape[0], 1, x.shape[-1], dtype=x.dtype, device=x.device)\n",
    "        x = torch.cat([cls_embs, x], dim=1)  # shape = [*, grid ** 2 + 1, width]\n",
    "\n",
    "        x = x + self.positional_embedding.to(x.dtype)\n",
    "        return x"
   ]
  },
  {
   "cell_type": "code",
   "execution_count": 10,
   "id": "00f2fd64",
   "metadata": {
    "execution": {
     "iopub.execute_input": "2025-09-07T09:55:18.015161Z",
     "iopub.status.busy": "2025-09-07T09:55:18.014542Z",
     "iopub.status.idle": "2025-09-07T09:55:18.033687Z",
     "shell.execute_reply": "2025-09-07T09:55:18.032081Z"
    },
    "papermill": {
     "duration": 0.030251,
     "end_time": "2025-09-07T09:55:18.035936",
     "exception": false,
     "start_time": "2025-09-07T09:55:18.005685",
     "status": "completed"
    },
    "tags": []
   },
   "outputs": [],
   "source": [
    "class ViTTransformerEncoder(nn.Module):\n",
    "    def __init__(self, embed_dim, num_heads, ff_dim, dropout=0.1):\n",
    "        super().__init__()\n",
    "        self.norm_1 = nn.LayerNorm(normalized_shape=embed_dim, eps=1e-6)\n",
    "        self.attn = nn.MultiheadAttention(\n",
    "            embed_dim=embed_dim,\n",
    "            num_heads=num_heads,\n",
    "            batch_first=True\n",
    "        )\n",
    "        self.norm_2 = nn.LayerNorm(normalized_shape=embed_dim, eps=1e-6)\n",
    "        self.ffn = nn.Sequential(\n",
    "            nn.Linear(in_features=embed_dim, out_features=ff_dim, bias=True),\n",
    "            nn.GELU(),\n",
    "            nn.Linear(in_features=ff_dim, out_features=embed_dim, bias=True)\n",
    "        )\n",
    "        self.dropout_1 = nn.Dropout(p=dropout)\n",
    "        self.dropout_2 = nn.Dropout(p=dropout)\n",
    "\n",
    "    def forward(self, x):\n",
    "        # LayerNorm before Multi-Head Attention\n",
    "        norm_x1 = self.norm_1(x)\n",
    "        attn_output, _ = self.attn(norm_x1, norm_x1, norm_x1)\n",
    "        attn_output = self.dropout_1(attn_output)\n",
    "        x = x + attn_output  # Residual connection\n",
    "\n",
    "        # LayerNorm before Feed-Forward Network\n",
    "        norm_x2 = self.norm_2(x)\n",
    "        ffn_output = self.ffn(norm_x2)\n",
    "        ffn_output = self.dropout_2(ffn_output)\n",
    "        x = x + ffn_output  # Residual connection\n",
    "\n",
    "        return x\n"
   ]
  },
  {
   "cell_type": "code",
   "execution_count": 11,
   "id": "1ab394bd",
   "metadata": {
    "execution": {
     "iopub.execute_input": "2025-09-07T09:55:18.053371Z",
     "iopub.status.busy": "2025-09-07T09:55:18.052589Z",
     "iopub.status.idle": "2025-09-07T09:55:18.070650Z",
     "shell.execute_reply": "2025-09-07T09:55:18.069013Z"
    },
    "papermill": {
     "duration": 0.028879,
     "end_time": "2025-09-07T09:55:18.072620",
     "exception": false,
     "start_time": "2025-09-07T09:55:18.043741",
     "status": "completed"
    },
    "tags": []
   },
   "outputs": [],
   "source": [
    "class VisionTransformerCls(nn.Module):\n",
    "    def __init__(self,\n",
    "                 image_size, embed_dim, num_heads, ff_dim,\n",
    "                 dropout=0.1, num_classes=10, patch_size=16\n",
    "        ):\n",
    "        super().__init__()\n",
    "        self.embd_layer = PatchPositionEmbedding(\n",
    "            image_size=image_size, embed_dim=embed_dim, patch_size=patch_size\n",
    "        )\n",
    "        self.transformer_layer = ViTTransformerEncoder(\n",
    "            embed_dim, num_heads, ff_dim, dropout\n",
    "        )\n",
    "        self.fc1 = nn.Linear(in_features=embed_dim, out_features=20)\n",
    "        self.fc2 = nn.Linear(in_features=20, out_features=num_classes)\n",
    "        self.dropout = nn.Dropout(p=dropout)\n",
    "        self.relu = nn.ReLU()\n",
    "\n",
    "    def forward(self, x):\n",
    "        output = self.embd_layer(x)\n",
    "        output = self.transformer_layer(output)  # Corrected to single input\n",
    "        output = output[:, 0, :]\n",
    "\n",
    "        # Classification head\n",
    "        output = self.dropout(output)\n",
    "        output = self.fc1(output)\n",
    "        output = self.relu(output)  # Optional activation for fc1\n",
    "        output = self.dropout(output)\n",
    "        output = self.fc2(output)\n",
    "        return output\n"
   ]
  },
  {
   "cell_type": "code",
   "execution_count": 12,
   "id": "ab3241c5",
   "metadata": {
    "execution": {
     "iopub.execute_input": "2025-09-07T09:55:18.089636Z",
     "iopub.status.busy": "2025-09-07T09:55:18.089018Z",
     "iopub.status.idle": "2025-09-07T09:55:18.347865Z",
     "shell.execute_reply": "2025-09-07T09:55:18.346883Z"
    },
    "papermill": {
     "duration": 0.270498,
     "end_time": "2025-09-07T09:55:18.350590",
     "exception": false,
     "start_time": "2025-09-07T09:55:18.080092",
     "status": "completed"
    },
    "tags": []
   },
   "outputs": [],
   "source": [
    "device = torch.device('cuda:0' if torch.cuda.is_available() else 'cpu')\n",
    "model = VisionTransformerCls(\n",
    "    image_size=32,\n",
    "    patch_size=4,\n",
    "    embed_dim=256,\n",
    "    num_heads=4,\n",
    "    ff_dim = 128,\n",
    "    num_classes=10\n",
    ").to(device)"
   ]
  },
  {
   "cell_type": "markdown",
   "id": "07881329",
   "metadata": {
    "papermill": {
     "duration": 0.014081,
     "end_time": "2025-09-07T09:55:18.378940",
     "exception": false,
     "start_time": "2025-09-07T09:55:18.364859",
     "status": "completed"
    },
    "tags": []
   },
   "source": [
    "# train"
   ]
  },
  {
   "cell_type": "code",
   "execution_count": 13,
   "id": "8dd666e8",
   "metadata": {
    "execution": {
     "iopub.execute_input": "2025-09-07T09:55:18.405974Z",
     "iopub.status.busy": "2025-09-07T09:55:18.405684Z",
     "iopub.status.idle": "2025-09-07T10:34:08.336475Z",
     "shell.execute_reply": "2025-09-07T10:34:08.335586Z"
    },
    "papermill": {
     "duration": 2329.946398,
     "end_time": "2025-09-07T10:34:08.339001",
     "exception": false,
     "start_time": "2025-09-07T09:55:18.392603",
     "status": "completed"
    },
    "tags": []
   },
   "outputs": [
    {
     "name": "stdout",
     "output_type": "stream",
     "text": [
      "Epoch 1/50 loss: 1.373\n"
     ]
    },
    {
     "name": "stdout",
     "output_type": "stream",
     "text": [
      "Test loss: 0.776 accuracy: 50.71%\n"
     ]
    },
    {
     "name": "stdout",
     "output_type": "stream",
     "text": [
      "Epoch 2/50 loss: 0.886\n"
     ]
    },
    {
     "name": "stdout",
     "output_type": "stream",
     "text": [
      "Test loss: 0.722 accuracy: 50.42%\n"
     ]
    },
    {
     "name": "stdout",
     "output_type": "stream",
     "text": [
      "Epoch 3/50 loss: 0.856\n"
     ]
    },
    {
     "name": "stdout",
     "output_type": "stream",
     "text": [
      "Test loss: 0.710 accuracy: 51.41%\n"
     ]
    },
    {
     "name": "stdout",
     "output_type": "stream",
     "text": [
      "Epoch 4/50 loss: 0.830\n"
     ]
    },
    {
     "name": "stdout",
     "output_type": "stream",
     "text": [
      "Test loss: 0.699 accuracy: 57.07%\n"
     ]
    },
    {
     "name": "stdout",
     "output_type": "stream",
     "text": [
      "Epoch 5/50 loss: 0.792\n"
     ]
    },
    {
     "name": "stdout",
     "output_type": "stream",
     "text": [
      "Test loss: 0.684 accuracy: 57.77%\n"
     ]
    },
    {
     "name": "stdout",
     "output_type": "stream",
     "text": [
      "Epoch 6/50 loss: 0.773\n"
     ]
    },
    {
     "name": "stdout",
     "output_type": "stream",
     "text": [
      "Test loss: 0.680 accuracy: 58.83%\n"
     ]
    },
    {
     "name": "stdout",
     "output_type": "stream",
     "text": [
      "Epoch 7/50 loss: 0.754\n"
     ]
    },
    {
     "name": "stdout",
     "output_type": "stream",
     "text": [
      "Test loss: 0.673 accuracy: 59.56%\n"
     ]
    },
    {
     "name": "stdout",
     "output_type": "stream",
     "text": [
      "Epoch 8/50 loss: 0.735\n"
     ]
    },
    {
     "name": "stdout",
     "output_type": "stream",
     "text": [
      "Test loss: 0.670 accuracy: 60.48%\n"
     ]
    },
    {
     "name": "stdout",
     "output_type": "stream",
     "text": [
      "Epoch 9/50 loss: 0.726\n"
     ]
    },
    {
     "name": "stdout",
     "output_type": "stream",
     "text": [
      "Test loss: 0.666 accuracy: 60.55%\n"
     ]
    },
    {
     "name": "stdout",
     "output_type": "stream",
     "text": [
      "Epoch 10/50 loss: 0.713\n"
     ]
    },
    {
     "name": "stdout",
     "output_type": "stream",
     "text": [
      "Test loss: 0.663 accuracy: 60.22%\n"
     ]
    },
    {
     "name": "stdout",
     "output_type": "stream",
     "text": [
      "Epoch 11/50 loss: 0.700\n"
     ]
    },
    {
     "name": "stdout",
     "output_type": "stream",
     "text": [
      "Test loss: 0.659 accuracy: 61.21%\n"
     ]
    },
    {
     "name": "stdout",
     "output_type": "stream",
     "text": [
      "Epoch 12/50 loss: 0.691\n"
     ]
    },
    {
     "name": "stdout",
     "output_type": "stream",
     "text": [
      "Test loss: 0.658 accuracy: 61.02%\n"
     ]
    },
    {
     "name": "stdout",
     "output_type": "stream",
     "text": [
      "Epoch 13/50 loss: 0.682\n"
     ]
    },
    {
     "name": "stdout",
     "output_type": "stream",
     "text": [
      "Test loss: 0.657 accuracy: 61.17%\n"
     ]
    },
    {
     "name": "stdout",
     "output_type": "stream",
     "text": [
      "Epoch 14/50 loss: 0.676\n"
     ]
    },
    {
     "name": "stdout",
     "output_type": "stream",
     "text": [
      "Test loss: 0.656 accuracy: 60.84%\n"
     ]
    },
    {
     "name": "stdout",
     "output_type": "stream",
     "text": [
      "Epoch 15/50 loss: 0.673\n"
     ]
    },
    {
     "name": "stdout",
     "output_type": "stream",
     "text": [
      "Test loss: 0.656 accuracy: 61.10%\n"
     ]
    },
    {
     "name": "stdout",
     "output_type": "stream",
     "text": [
      "Epoch 16/50 loss: 0.666\n"
     ]
    },
    {
     "name": "stdout",
     "output_type": "stream",
     "text": [
      "Test loss: 0.653 accuracy: 62.05%\n"
     ]
    },
    {
     "name": "stdout",
     "output_type": "stream",
     "text": [
      "Epoch 17/50 loss: 0.658\n"
     ]
    },
    {
     "name": "stdout",
     "output_type": "stream",
     "text": [
      "Test loss: 0.652 accuracy: 62.45%\n"
     ]
    },
    {
     "name": "stdout",
     "output_type": "stream",
     "text": [
      "Epoch 18/50 loss: 0.656\n"
     ]
    },
    {
     "name": "stdout",
     "output_type": "stream",
     "text": [
      "Test loss: 0.649 accuracy: 62.08%\n"
     ]
    },
    {
     "name": "stdout",
     "output_type": "stream",
     "text": [
      "Epoch 19/50 loss: 0.652\n"
     ]
    },
    {
     "name": "stdout",
     "output_type": "stream",
     "text": [
      "Test loss: 0.650 accuracy: 61.94%\n"
     ]
    },
    {
     "name": "stdout",
     "output_type": "stream",
     "text": [
      "Epoch 20/50 loss: 0.647\n"
     ]
    },
    {
     "name": "stdout",
     "output_type": "stream",
     "text": [
      "Test loss: 0.647 accuracy: 62.08%\n"
     ]
    },
    {
     "name": "stdout",
     "output_type": "stream",
     "text": [
      "Epoch 21/50 loss: 0.643\n"
     ]
    },
    {
     "name": "stdout",
     "output_type": "stream",
     "text": [
      "Test loss: 0.645 accuracy: 62.49%\n"
     ]
    },
    {
     "name": "stdout",
     "output_type": "stream",
     "text": [
      "Epoch 22/50 loss: 0.642\n"
     ]
    },
    {
     "name": "stdout",
     "output_type": "stream",
     "text": [
      "Test loss: 0.648 accuracy: 62.41%\n"
     ]
    },
    {
     "name": "stdout",
     "output_type": "stream",
     "text": [
      "Epoch 23/50 loss: 0.636\n"
     ]
    },
    {
     "name": "stdout",
     "output_type": "stream",
     "text": [
      "Test loss: 0.644 accuracy: 62.85%\n"
     ]
    },
    {
     "name": "stdout",
     "output_type": "stream",
     "text": [
      "Epoch 24/50 loss: 0.635\n"
     ]
    },
    {
     "name": "stdout",
     "output_type": "stream",
     "text": [
      "Test loss: 0.642 accuracy: 63.00%\n"
     ]
    },
    {
     "name": "stdout",
     "output_type": "stream",
     "text": [
      "Epoch 25/50 loss: 0.630\n"
     ]
    },
    {
     "name": "stdout",
     "output_type": "stream",
     "text": [
      "Test loss: 0.640 accuracy: 63.25%\n"
     ]
    },
    {
     "name": "stdout",
     "output_type": "stream",
     "text": [
      "Epoch 26/50 loss: 0.627\n"
     ]
    },
    {
     "name": "stdout",
     "output_type": "stream",
     "text": [
      "Test loss: 0.638 accuracy: 63.66%\n"
     ]
    },
    {
     "name": "stdout",
     "output_type": "stream",
     "text": [
      "Epoch 27/50 loss: 0.627\n"
     ]
    },
    {
     "name": "stdout",
     "output_type": "stream",
     "text": [
      "Test loss: 0.639 accuracy: 62.63%\n"
     ]
    },
    {
     "name": "stdout",
     "output_type": "stream",
     "text": [
      "Epoch 28/50 loss: 0.623\n"
     ]
    },
    {
     "name": "stdout",
     "output_type": "stream",
     "text": [
      "Test loss: 0.637 accuracy: 64.10%\n"
     ]
    },
    {
     "name": "stdout",
     "output_type": "stream",
     "text": [
      "Epoch 29/50 loss: 0.622\n"
     ]
    },
    {
     "name": "stdout",
     "output_type": "stream",
     "text": [
      "Test loss: 0.634 accuracy: 63.62%\n"
     ]
    },
    {
     "name": "stdout",
     "output_type": "stream",
     "text": [
      "Epoch 30/50 loss: 0.619\n"
     ]
    },
    {
     "name": "stdout",
     "output_type": "stream",
     "text": [
      "Test loss: 0.637 accuracy: 63.18%\n"
     ]
    },
    {
     "name": "stdout",
     "output_type": "stream",
     "text": [
      "Epoch 31/50 loss: 0.619\n"
     ]
    },
    {
     "name": "stdout",
     "output_type": "stream",
     "text": [
      "Test loss: 0.633 accuracy: 63.77%\n"
     ]
    },
    {
     "name": "stdout",
     "output_type": "stream",
     "text": [
      "Epoch 32/50 loss: 0.616\n"
     ]
    },
    {
     "name": "stdout",
     "output_type": "stream",
     "text": [
      "Test loss: 0.631 accuracy: 63.91%\n"
     ]
    },
    {
     "name": "stdout",
     "output_type": "stream",
     "text": [
      "Epoch 33/50 loss: 0.614\n"
     ]
    },
    {
     "name": "stdout",
     "output_type": "stream",
     "text": [
      "Test loss: 0.634 accuracy: 63.62%\n"
     ]
    },
    {
     "name": "stdout",
     "output_type": "stream",
     "text": [
      "Epoch 34/50 loss: 0.614\n"
     ]
    },
    {
     "name": "stdout",
     "output_type": "stream",
     "text": [
      "Test loss: 0.629 accuracy: 64.20%\n"
     ]
    },
    {
     "name": "stdout",
     "output_type": "stream",
     "text": [
      "Epoch 35/50 loss: 0.611\n"
     ]
    },
    {
     "name": "stdout",
     "output_type": "stream",
     "text": [
      "Test loss: 0.636 accuracy: 63.44%\n"
     ]
    },
    {
     "name": "stdout",
     "output_type": "stream",
     "text": [
      "Epoch 36/50 loss: 0.611\n"
     ]
    },
    {
     "name": "stdout",
     "output_type": "stream",
     "text": [
      "Test loss: 0.630 accuracy: 63.55%\n"
     ]
    },
    {
     "name": "stdout",
     "output_type": "stream",
     "text": [
      "Epoch 37/50 loss: 0.608\n"
     ]
    },
    {
     "name": "stdout",
     "output_type": "stream",
     "text": [
      "Test loss: 0.631 accuracy: 63.62%\n"
     ]
    },
    {
     "name": "stdout",
     "output_type": "stream",
     "text": [
      "Epoch 38/50 loss: 0.607\n"
     ]
    },
    {
     "name": "stdout",
     "output_type": "stream",
     "text": [
      "Test loss: 0.627 accuracy: 64.02%\n"
     ]
    },
    {
     "name": "stdout",
     "output_type": "stream",
     "text": [
      "Epoch 39/50 loss: 0.605\n"
     ]
    },
    {
     "name": "stdout",
     "output_type": "stream",
     "text": [
      "Test loss: 0.626 accuracy: 64.46%\n"
     ]
    },
    {
     "name": "stdout",
     "output_type": "stream",
     "text": [
      "Epoch 40/50 loss: 0.603\n"
     ]
    },
    {
     "name": "stdout",
     "output_type": "stream",
     "text": [
      "Test loss: 0.626 accuracy: 64.72%\n"
     ]
    },
    {
     "name": "stdout",
     "output_type": "stream",
     "text": [
      "Epoch 41/50 loss: 0.602\n"
     ]
    },
    {
     "name": "stdout",
     "output_type": "stream",
     "text": [
      "Test loss: 0.630 accuracy: 63.84%\n"
     ]
    },
    {
     "name": "stdout",
     "output_type": "stream",
     "text": [
      "Epoch 42/50 loss: 0.601\n"
     ]
    },
    {
     "name": "stdout",
     "output_type": "stream",
     "text": [
      "Test loss: 0.625 accuracy: 64.57%\n"
     ]
    },
    {
     "name": "stdout",
     "output_type": "stream",
     "text": [
      "Epoch 43/50 loss: 0.601\n"
     ]
    },
    {
     "name": "stdout",
     "output_type": "stream",
     "text": [
      "Test loss: 0.622 accuracy: 64.79%\n"
     ]
    },
    {
     "name": "stdout",
     "output_type": "stream",
     "text": [
      "Epoch 44/50 loss: 0.599\n"
     ]
    },
    {
     "name": "stdout",
     "output_type": "stream",
     "text": [
      "Test loss: 0.620 accuracy: 64.97%\n"
     ]
    },
    {
     "name": "stdout",
     "output_type": "stream",
     "text": [
      "Epoch 45/50 loss: 0.596\n"
     ]
    },
    {
     "name": "stdout",
     "output_type": "stream",
     "text": [
      "Test loss: 0.621 accuracy: 65.16%\n"
     ]
    },
    {
     "name": "stdout",
     "output_type": "stream",
     "text": [
      "Epoch 46/50 loss: 0.596\n"
     ]
    },
    {
     "name": "stdout",
     "output_type": "stream",
     "text": [
      "Test loss: 0.622 accuracy: 65.12%\n"
     ]
    },
    {
     "name": "stdout",
     "output_type": "stream",
     "text": [
      "Epoch 47/50 loss: 0.594\n"
     ]
    },
    {
     "name": "stdout",
     "output_type": "stream",
     "text": [
      "Test loss: 0.620 accuracy: 64.75%\n"
     ]
    },
    {
     "name": "stdout",
     "output_type": "stream",
     "text": [
      "Epoch 48/50 loss: 0.592\n"
     ]
    },
    {
     "name": "stdout",
     "output_type": "stream",
     "text": [
      "Test loss: 0.617 accuracy: 65.30%\n"
     ]
    },
    {
     "name": "stdout",
     "output_type": "stream",
     "text": [
      "Epoch 49/50 loss: 0.591\n"
     ]
    },
    {
     "name": "stdout",
     "output_type": "stream",
     "text": [
      "Test loss: 0.626 accuracy: 65.05%\n"
     ]
    },
    {
     "name": "stdout",
     "output_type": "stream",
     "text": [
      "Epoch 50/50 loss: 0.589\n"
     ]
    },
    {
     "name": "stdout",
     "output_type": "stream",
     "text": [
      "Test loss: 0.618 accuracy: 65.16%\n"
     ]
    }
   ],
   "source": [
    "n_epochs = 50\n",
    "lr = 1e-5\n",
    "\n",
    "optimizer = torch.optim.Adam(model.parameters(), lr=lr)\n",
    "criterion = torch.nn.CrossEntropyLoss()\n",
    "\n",
    "train_losses = []\n",
    "test_losses = []\n",
    "train_accuracies = []\n",
    "test_accuracies = []\n",
    "\n",
    "for epoch in range(n_epochs):\n",
    "    train_loss = 0.0\n",
    "    correct_train = 0\n",
    "    total_train = 0\n",
    "    model.train()\n",
    "    for x, y in train_loader:\n",
    "        # x, y = batch\n",
    "        x, y = x.to(device), y.to(device)\n",
    "        # break\n",
    "        optimizer.zero_grad()\n",
    "\n",
    "        y_hat = model(x)\n",
    "        loss = criterion(y_hat, y)\n",
    "\n",
    "        train_loss += loss.item()\n",
    "\n",
    "        _, predicted = torch.max(y_hat, 1)\n",
    "        correct_train += (predicted == y).sum().item()\n",
    "        total_train += y.size(0)\n",
    "\n",
    "        loss.backward()\n",
    "        optimizer.step()\n",
    "\n",
    "    train_loss = train_loss/len(train_loader)\n",
    "    train_accuracy = 100 * correct_train / total_train\n",
    "    train_losses.append(train_loss)\n",
    "    train_accuracies.append(train_accuracy)\n",
    "    print(f\"Epoch {epoch + 1}/{n_epochs} loss: {train_loss:.03f}\")\n",
    "\n",
    "    # Evaluate on test set\n",
    "    model.eval()\n",
    "    test_loss = 0.0\n",
    "    correct_test = 0\n",
    "    total_test = 0\n",
    "    with torch.no_grad():\n",
    "        for i, batch in enumerate(test_loader):\n",
    "            x, y = batch\n",
    "            x, y = x.to(device), y.to(device)\n",
    "            y_hat = model(x)\n",
    "            loss = criterion(y_hat, y)\n",
    "            test_loss += loss.item() / len(test_loader)\n",
    "\n",
    "            _, predicted = torch.max(y_hat, 1)\n",
    "            correct_test += (predicted == y).sum().item()\n",
    "            total_test += y.size(0)\n",
    "\n",
    "    test_accuracy = 100 * correct_test / total_test\n",
    "    test_losses.append(test_loss)\n",
    "    test_accuracies.append(test_accuracy)\n",
    "    print(f\"Test loss: {test_loss:.03f} accuracy: {test_accuracy:.2f}%\")"
   ]
  },
  {
   "cell_type": "markdown",
   "id": "e686b883",
   "metadata": {
    "papermill": {
     "duration": 0.028935,
     "end_time": "2025-09-07T10:34:08.403591",
     "exception": false,
     "start_time": "2025-09-07T10:34:08.374656",
     "status": "completed"
    },
    "tags": []
   },
   "source": [
    "# plot training result"
   ]
  },
  {
   "cell_type": "code",
   "execution_count": 14,
   "id": "f90399a4",
   "metadata": {
    "execution": {
     "iopub.execute_input": "2025-09-07T10:34:08.440938Z",
     "iopub.status.busy": "2025-09-07T10:34:08.440347Z",
     "iopub.status.idle": "2025-09-07T10:34:08.801495Z",
     "shell.execute_reply": "2025-09-07T10:34:08.800734Z"
    },
    "papermill": {
     "duration": 0.380338,
     "end_time": "2025-09-07T10:34:08.803463",
     "exception": false,
     "start_time": "2025-09-07T10:34:08.423125",
     "status": "completed"
    },
    "tags": []
   },
   "outputs": [
    {
     "data": {
      "image/png": "[encoded data removed]",
      "text/plain": [
       "<Figure size 1000x500 with 1 Axes>"
      ]
     },
     "metadata": {},
     "output_type": "display_data"
    },
    {
     "data": {
      "image/png": "[encoded data removed]",
      "text/plain": [
       "<Figure size 1000x500 with 1 Axes>"
      ]
     },
     "metadata": {},
     "output_type": "display_data"
    }
   ],
   "source": [
    "# Plot training and test losses\n",
    "plt.figure(figsize=(10, 5))\n",
    "plt.plot(range(1, n_epochs + 1), train_losses, label=\"Train Loss\", marker=\"o\")\n",
    "plt.plot(range(1, n_epochs + 1), test_losses, label=\"Test Loss\", marker=\"s\")\n",
    "plt.xlabel(\"Epochs\")\n",
    "plt.ylabel(\"Loss\")\n",
    "plt.title(\"Training and Test Loss Over Epochs\")\n",
    "plt.legend()\n",
    "plt.grid(True)\n",
    "plt.show()\n",
    "\n",
    "# Plot training and test accuracies\n",
    "plt.figure(figsize=(10, 5))\n",
    "plt.plot(range(1, n_epochs + 1), train_accuracies, label=\"Train Accuracy\", marker=\"o\")\n",
    "plt.plot(range(1, n_epochs + 1), test_accuracies, label=\"Test Accuracy\", marker=\"s\")\n",
    "plt.xlabel(\"Epochs\")\n",
    "plt.ylabel(\"Accuracy (%)\")\n",
    "plt.title(\"Training and Test Accuracy Over Epochs\")\n",
    "plt.legend()\n",
    "plt.grid(True)\n",
    "plt.show()"
   ]
  }
 ],
 "metadata": {
  "kernelspec": {
   "display_name": "Python3 (ipykernel)",
   "language": "python",
   "name": "python3"
  },
  "language_info": {
   "codemirror_mode": {
    "name": "ipython",
    "version": 3
   },
   "file_extension": ".py",
   "mimetype": "text/x-python",
   "name": "python",
   "nbconvert_exporter": "python",
   "pygments_lexer": "ipython3",
   "version": "3.10.18"
  },
  "papermill": {
   "default_parameters": {},
   "duration": 2347.071426,
   "end_time": "2025-09-07T10:34:09.848914",
   "environment_variables": {},
   "exception": null,
   "input_path": "ViT.ipynb",
   "output_path": "output.ipynb",
   "parameters": {},
   "start_time": "2025-09-07T09:55:02.777488",
   "version": "2.6.0"
  }
 },
 "nbformat": 4,
 "nbformat_minor": 5
}